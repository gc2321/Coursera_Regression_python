{
 "cells": [
  {
   "cell_type": "markdown",
   "metadata": {},
   "source": [
    "# Regression Week 3: Assessing Fit (polynomial regression)"
   ]
  },
  {
   "cell_type": "markdown",
   "metadata": {},
   "source": [
    "In this notebook you will compare different regression models in order to assess which model fits best. We will be using polynomial regression as a means to examine this topic. In particular you will:\n",
    "* Write a function to take an SArray and a degree and return an SFrame where each column is the SArray to a polynomial value up to the total degree e.g. degree = 3 then column 1 is the SArray column 2 is the SArray squared and column 3 is the SArray cubed\n",
    "* Use matplotlib to visualize polynomial regressions\n",
    "* Use matplotlib to visualize the same polynomial degree on different subsets of the data\n",
    "* Use a validation set to select a polynomial degree\n",
    "* Assess the final fit using test data\n",
    "\n",
    "We will continue to use the House data from previous notebooks."
   ]
  },
  {
   "cell_type": "code",
   "execution_count": 1,
   "metadata": {
    "collapsed": true
   },
   "outputs": [],
   "source": [
    "import numpy as np\n",
    "import matplotlib.pyplot as plt\n",
    "import pandas as pd\n",
    "%matplotlib inline"
   ]
  },
  {
   "cell_type": "markdown",
   "metadata": {},
   "source": [
    "# Polynomial_dataframe function"
   ]
  },
  {
   "cell_type": "code",
   "execution_count": 2,
   "metadata": {
    "collapsed": true
   },
   "outputs": [],
   "source": [
    "def polynomial_dataframe(feature, degree): # feature is pandas.Series type\n",
    "    # assume that degree >= 1\n",
    "    # initialize the dataframe:\n",
    "    poly_dataframe = pd.DataFrame()\n",
    "    poly_dataframe['power_1'] = feature\n",
    "\n",
    "    if degree > 1:\n",
    "        # then loop over the remaining degrees:\n",
    "        for power in range(2, degree+1):\n",
    "            # first we'll give the column a name:\n",
    "            name = 'power_' + str(power)\n",
    "            poly_dataframe[name] = feature.apply(lambda x: x**power)\n",
    "\n",
    "    return poly_dataframe"
   ]
  },
  {
   "cell_type": "markdown",
   "metadata": {},
   "source": [
    "# Load data"
   ]
  },
  {
   "cell_type": "code",
   "execution_count": 3,
   "metadata": {
    "collapsed": true
   },
   "outputs": [],
   "source": [
    "dtype_dict = {'bathrooms':float, 'waterfront':int, 'sqft_above':int, 'sqft_living15':float, 'grade':int, 'yr_renovated':int, 'price':float, 'bedrooms':float, 'zipcode':str, 'long':float, 'sqft_lot15':float, 'sqft_living':float, 'floors':str, 'condition':int, 'lat':float, 'date':str, 'sqft_basement':int, 'yr_built':int, 'id':str, 'sqft_lot':int, 'view':int}"
   ]
  },
  {
   "cell_type": "code",
   "execution_count": 4,
   "metadata": {
    "collapsed": false
   },
   "outputs": [
    {
     "data": {
      "text/html": [
       "<div>\n",
       "<table border=\"1\" class=\"dataframe\">\n",
       "  <thead>\n",
       "    <tr style=\"text-align: right;\">\n",
       "      <th></th>\n",
       "      <th>id</th>\n",
       "      <th>date</th>\n",
       "      <th>price</th>\n",
       "      <th>bedrooms</th>\n",
       "      <th>bathrooms</th>\n",
       "      <th>sqft_living</th>\n",
       "      <th>sqft_lot</th>\n",
       "      <th>floors</th>\n",
       "      <th>waterfront</th>\n",
       "      <th>view</th>\n",
       "      <th>...</th>\n",
       "      <th>grade</th>\n",
       "      <th>sqft_above</th>\n",
       "      <th>sqft_basement</th>\n",
       "      <th>yr_built</th>\n",
       "      <th>yr_renovated</th>\n",
       "      <th>zipcode</th>\n",
       "      <th>lat</th>\n",
       "      <th>long</th>\n",
       "      <th>sqft_living15</th>\n",
       "      <th>sqft_lot15</th>\n",
       "    </tr>\n",
       "  </thead>\n",
       "  <tbody>\n",
       "    <tr>\n",
       "      <th>19452</th>\n",
       "      <td>3980300371</td>\n",
       "      <td>20140926T000000</td>\n",
       "      <td>142000</td>\n",
       "      <td>0</td>\n",
       "      <td>0.00</td>\n",
       "      <td>290</td>\n",
       "      <td>20875</td>\n",
       "      <td>1</td>\n",
       "      <td>0</td>\n",
       "      <td>0</td>\n",
       "      <td>...</td>\n",
       "      <td>1</td>\n",
       "      <td>290</td>\n",
       "      <td>0</td>\n",
       "      <td>1963</td>\n",
       "      <td>0</td>\n",
       "      <td>98024</td>\n",
       "      <td>47.5308</td>\n",
       "      <td>-121.888</td>\n",
       "      <td>1620</td>\n",
       "      <td>22850</td>\n",
       "    </tr>\n",
       "    <tr>\n",
       "      <th>15381</th>\n",
       "      <td>2856101479</td>\n",
       "      <td>20140701T000000</td>\n",
       "      <td>276000</td>\n",
       "      <td>1</td>\n",
       "      <td>0.75</td>\n",
       "      <td>370</td>\n",
       "      <td>1801</td>\n",
       "      <td>1</td>\n",
       "      <td>0</td>\n",
       "      <td>0</td>\n",
       "      <td>...</td>\n",
       "      <td>5</td>\n",
       "      <td>370</td>\n",
       "      <td>0</td>\n",
       "      <td>1923</td>\n",
       "      <td>0</td>\n",
       "      <td>98117</td>\n",
       "      <td>47.6778</td>\n",
       "      <td>-122.389</td>\n",
       "      <td>1340</td>\n",
       "      <td>5000</td>\n",
       "    </tr>\n",
       "  </tbody>\n",
       "</table>\n",
       "<p>2 rows × 21 columns</p>\n",
       "</div>"
      ],
      "text/plain": [
       "               id             date   price  bedrooms  bathrooms  sqft_living  \\\n",
       "19452  3980300371  20140926T000000  142000         0       0.00          290   \n",
       "15381  2856101479  20140701T000000  276000         1       0.75          370   \n",
       "\n",
       "       sqft_lot floors  waterfront  view     ...      grade  sqft_above  \\\n",
       "19452     20875      1           0     0     ...          1         290   \n",
       "15381      1801      1           0     0     ...          5         370   \n",
       "\n",
       "       sqft_basement  yr_built  yr_renovated  zipcode      lat     long  \\\n",
       "19452              0      1963             0    98024  47.5308 -121.888   \n",
       "15381              0      1923             0    98117  47.6778 -122.389   \n",
       "\n",
       "       sqft_living15  sqft_lot15  \n",
       "19452           1620       22850  \n",
       "15381           1340        5000  \n",
       "\n",
       "[2 rows x 21 columns]"
      ]
     },
     "execution_count": 4,
     "metadata": {},
     "output_type": "execute_result"
    }
   ],
   "source": [
    "sales = pd.read_csv('kc_house_data.csv', dtype=dtype_dict)\n",
    "sales = sales.sort(['sqft_living','price'])\n",
    "sales.head(2)"
   ]
  },
  {
   "cell_type": "code",
   "execution_count": 5,
   "metadata": {
    "collapsed": false
   },
   "outputs": [],
   "source": [
    "poly1_data = polynomial_dataframe(sales['sqft_living'], 1)\n",
    "poly1_data['price'] = sales['price']"
   ]
  },
  {
   "cell_type": "code",
   "execution_count": 6,
   "metadata": {
    "collapsed": false
   },
   "outputs": [
    {
     "data": {
      "text/html": [
       "<div>\n",
       "<table border=\"1\" class=\"dataframe\">\n",
       "  <thead>\n",
       "    <tr style=\"text-align: right;\">\n",
       "      <th></th>\n",
       "      <th>power_1</th>\n",
       "      <th>price</th>\n",
       "    </tr>\n",
       "  </thead>\n",
       "  <tbody>\n",
       "    <tr>\n",
       "      <th>19452</th>\n",
       "      <td>290</td>\n",
       "      <td>142000</td>\n",
       "    </tr>\n",
       "    <tr>\n",
       "      <th>15381</th>\n",
       "      <td>370</td>\n",
       "      <td>276000</td>\n",
       "    </tr>\n",
       "  </tbody>\n",
       "</table>\n",
       "</div>"
      ],
      "text/plain": [
       "       power_1   price\n",
       "19452      290  142000\n",
       "15381      370  276000"
      ]
     },
     "execution_count": 6,
     "metadata": {},
     "output_type": "execute_result"
    }
   ],
   "source": [
    "poly1_data.head(2)"
   ]
  },
  {
   "cell_type": "markdown",
   "metadata": {},
   "source": [
    "Compute the regression weights for predicting sales[‘price’] based on the 1 degree polynomial feature ‘sqft_living’. The result should be an intercept and slope. "
   ]
  },
  {
   "cell_type": "code",
   "execution_count": 7,
   "metadata": {
    "collapsed": false
   },
   "outputs": [],
   "source": [
    "from sklearn.linear_model import LinearRegression\n",
    "\n",
    "class Simple_linear_regression():\n",
    "    \"\"\"simple linear regression\n",
    "    \"\"\"\n",
    "    def __init__(self, input, output):\n",
    "        self._input = input\n",
    "        self._output = output\n",
    "        \n",
    "        self._slr = LinearRegression()\n",
    "        self._slr.fit(input,output)\n",
    "\n",
    "    def slope(self):\n",
    "        return self._slr.coef_[0]\n",
    "\n",
    "    def intercept(self):\n",
    "        return self._slr.intercept_\n",
    "\n",
    "    def score(self):\n",
    "        return self._slr.score(self._input, self._output, sample_weight=None)\n",
    "\n",
    "    def model(self):\n",
    "        return self._slr\n",
    "    \n",
    "    def predict(self, x):\n",
    "        return self._slr.predict(x)\n",
    "    \n",
    "    #print('Slope: %.3f'% slr.coef_[0])\n",
    "    #print('Intercept: %.3f'% slr.intercept_)\n",
    "    #print('r^2: %.3f'% slr.score(input, output, sample_weight=None))"
   ]
  },
  {
   "cell_type": "code",
   "execution_count": 8,
   "metadata": {
    "collapsed": false
   },
   "outputs": [],
   "source": [
    "input = poly1_data[['power_1']]\n",
    "output = poly1_data[['price']]\n",
    "model1 = Simple_linear_regression(input, output)"
   ]
  },
  {
   "cell_type": "code",
   "execution_count": 9,
   "metadata": {
    "collapsed": false
   },
   "outputs": [
    {
     "name": "stdout",
     "output_type": "stream",
     "text": [
      "[ 280.6235679]\n"
     ]
    }
   ],
   "source": [
    "# get slope\n",
    "print(model1.slope()) "
   ]
  },
  {
   "cell_type": "code",
   "execution_count": 10,
   "metadata": {
    "collapsed": false
   },
   "outputs": [
    {
     "name": "stdout",
     "output_type": "stream",
     "text": [
      "[-43580.74309448]\n"
     ]
    }
   ],
   "source": [
    "# get intercept\n",
    "print (model1.intercept())"
   ]
  },
  {
   "cell_type": "markdown",
   "metadata": {},
   "source": [
    "# Visualizing polynomial regression"
   ]
  },
  {
   "cell_type": "code",
   "execution_count": 11,
   "metadata": {
    "collapsed": false
   },
   "outputs": [
    {
     "data": {
      "text/plain": [
       "[<matplotlib.lines.Line2D at 0x1827a470>,\n",
       " <matplotlib.lines.Line2D at 0x1827a6a0>]"
      ]
     },
     "execution_count": 11,
     "metadata": {},
     "output_type": "execute_result"
    },
    {
     "data": {
      "image/png": "[encoded data removed]",
      "text/plain": [
       "<matplotlib.figure.Figure at 0xbc43518>"
      ]
     },
     "metadata": {},
     "output_type": "display_data"
    }
   ],
   "source": [
    "plt.plot(poly1_data['power_1'], poly1_data['price'],'.',\n",
    "        poly1_data[['power_1']].values, model1.predict(poly1_data[['power_1']]),'-'\n",
    "        )"
   ]
  },
  {
   "cell_type": "markdown",
   "metadata": {},
   "source": [
    "Let's unpack that plt.plot() command. The first pair of SArrays we passed are the 1st power of sqft and the actual price we then ask it to print these as dots '.'. The next pair we pass is the 1st power of sqft and the predicted values from the linear model. We ask these to be plotted as a line '-'. \n",
    "\n",
    "We can see, not surprisingly, that the predicted values all fall on a line, specifically the one with slope 280 and intercept -43579. What if we wanted to plot a second degree polynomial?"
   ]
  },
  {
   "cell_type": "code",
   "execution_count": 12,
   "metadata": {
    "collapsed": true
   },
   "outputs": [],
   "source": [
    "poly2_data = polynomial_dataframe(sales['sqft_living'], 2)\n",
    "poly2_data['price'] = sales['price']"
   ]
  },
  {
   "cell_type": "code",
   "execution_count": 13,
   "metadata": {
    "collapsed": false
   },
   "outputs": [
    {
     "data": {
      "text/html": [
       "<div>\n",
       "<table border=\"1\" class=\"dataframe\">\n",
       "  <thead>\n",
       "    <tr style=\"text-align: right;\">\n",
       "      <th></th>\n",
       "      <th>power_1</th>\n",
       "      <th>power_2</th>\n",
       "      <th>price</th>\n",
       "    </tr>\n",
       "  </thead>\n",
       "  <tbody>\n",
       "    <tr>\n",
       "      <th>19452</th>\n",
       "      <td>290</td>\n",
       "      <td>84100</td>\n",
       "      <td>142000</td>\n",
       "    </tr>\n",
       "    <tr>\n",
       "      <th>15381</th>\n",
       "      <td>370</td>\n",
       "      <td>136900</td>\n",
       "      <td>276000</td>\n",
       "    </tr>\n",
       "  </tbody>\n",
       "</table>\n",
       "</div>"
      ],
      "text/plain": [
       "       power_1  power_2   price\n",
       "19452      290    84100  142000\n",
       "15381      370   136900  276000"
      ]
     },
     "execution_count": 13,
     "metadata": {},
     "output_type": "execute_result"
    }
   ],
   "source": [
    "poly2_data.head(2)"
   ]
  },
  {
   "cell_type": "code",
   "execution_count": 14,
   "metadata": {
    "collapsed": true
   },
   "outputs": [],
   "source": [
    "class Multiple_linear_regression:\n",
    "    \"\"\"multiple linear regression\n",
    "    \"\"\"\n",
    "    def __init__(self, input, output):\n",
    "        self._input = input\n",
    "        self._output = output\n",
    "        \n",
    "        self._slr = LinearRegression()\n",
    "        self._slr.fit(input,output)\n",
    "\n",
    "    def slope(self):\n",
    "        return self._slr.coef_\n",
    "\n",
    "    def intercept(self):\n",
    "        return self._slr.intercept_\n",
    "\n",
    "    def score(self):\n",
    "        return self._slr.score(self._input, self._output, sample_weight=None)\n",
    "\n",
    "    def model(self):\n",
    "        return self._slr\n",
    "    \n",
    "    def predict(self, x):\n",
    "        return self._slr.predict(x)"
   ]
  },
  {
   "cell_type": "code",
   "execution_count": 15,
   "metadata": {
    "collapsed": false
   },
   "outputs": [],
   "source": [
    "input = poly2_data.ix[:, poly2_data.columns !='price']\n",
    "output = poly2_data[['price']]\n",
    "model2 = Multiple_linear_regression(input, output)"
   ]
  },
  {
   "cell_type": "code",
   "execution_count": 16,
   "metadata": {
    "collapsed": false
   },
   "outputs": [
    {
     "name": "stdout",
     "output_type": "stream",
     "text": [
      "[[  6.79940947e+01   3.85812609e-02]]\n"
     ]
    }
   ],
   "source": [
    "# get slope\n",
    "print(model2.slope()) "
   ]
  },
  {
   "cell_type": "code",
   "execution_count": 17,
   "metadata": {
    "collapsed": false
   },
   "outputs": [
    {
     "name": "stdout",
     "output_type": "stream",
     "text": [
      "[ 199222.27930548]\n"
     ]
    }
   ],
   "source": [
    "# get intercept\n",
    "print (model2.intercept())"
   ]
  },
  {
   "cell_type": "code",
   "execution_count": 18,
   "metadata": {
    "collapsed": false
   },
   "outputs": [
    {
     "data": {
      "text/plain": [
       "[<matplotlib.lines.Line2D at 0x18669eb8>,\n",
       " <matplotlib.lines.Line2D at 0x187e40f0>]"
      ]
     },
     "execution_count": 18,
     "metadata": {},
     "output_type": "execute_result"
    },
    {
     "data": {
      "image/png": "[encoded data removed]",
      "text/plain": [
       "<matplotlib.figure.Figure at 0x9f4e0b8>"
      ]
     },
     "metadata": {},
     "output_type": "display_data"
    }
   ],
   "source": [
    "plt.plot(poly2_data['power_1'], poly2_data['price'],'.',\n",
    "        poly2_data[['power_1']].values, model2.predict(input),'-'\n",
    "        )"
   ]
  },
  {
   "cell_type": "markdown",
   "metadata": {},
   "source": [
    "The resulting model looks like half a parabola. Try on your own to see what the cubic looks like:"
   ]
  },
  {
   "cell_type": "code",
   "execution_count": 19,
   "metadata": {
    "collapsed": false
   },
   "outputs": [
    {
     "name": "stdout",
     "output_type": "stream",
     "text": [
      "slope: [[ -9.01819864e+01   8.70465089e-02  -3.84055260e-06]]\n",
      "intercept: [ 336819.74822133]\n"
     ]
    }
   ],
   "source": [
    "# 3rd degree polynomial\n",
    "poly3_data = polynomial_dataframe(sales['sqft_living'], 3)\n",
    "poly3_data['price'] = sales['price']\n",
    "input = poly3_data.ix[:, poly3_data.columns !='price']\n",
    "output = poly3_data[['price']]\n",
    "model3 = Multiple_linear_regression(input, output)\n",
    "print('slope: '+str(model3.slope()))\n",
    "print('intercept: '+str(model3.intercept()))"
   ]
  },
  {
   "cell_type": "code",
   "execution_count": 20,
   "metadata": {
    "collapsed": false
   },
   "outputs": [
    {
     "data": {
      "text/plain": [
       "[<matplotlib.lines.Line2D at 0x1a25d748>,\n",
       " <matplotlib.lines.Line2D at 0x1a25d940>]"
      ]
     },
     "execution_count": 20,
     "metadata": {},
     "output_type": "execute_result"
    },
    {
     "data": {
      "image/png": "[encoded data removed]",
      "text/plain": [
       "<matplotlib.figure.Figure at 0x1894c208>"
      ]
     },
     "metadata": {},
     "output_type": "display_data"
    }
   ],
   "source": [
    "plt.plot(poly3_data['power_1'], poly3_data['price'],'.',\n",
    "        poly3_data[['power_1']].values, model3.predict(input),'-'\n",
    "        )"
   ]
  },
  {
   "cell_type": "markdown",
   "metadata": {},
   "source": [
    "Now try a 15th degree polynomial:"
   ]
  },
  {
   "cell_type": "code",
   "execution_count": 21,
   "metadata": {
    "collapsed": false
   },
   "outputs": [
    {
     "name": "stdout",
     "output_type": "stream",
     "text": [
      "slope: [[  4.56404164e-91  -2.64606373e-50  -6.53361323e-56   1.69071938e-60\n",
      "    9.24078176e-75   2.68575522e-71   2.26147568e-67   1.85900299e-63\n",
      "    1.47144116e-59   1.09771012e-55   7.43509038e-52   4.23015578e-48\n",
      "    1.61618577e-44  -2.49283826e-48   9.59718336e-53]]\n",
      "intercept: [ 537116.32963774]\n"
     ]
    }
   ],
   "source": [
    "# 15th degree polynomial\n",
    "poly15_data = polynomial_dataframe(sales['sqft_living'], 15)\n",
    "poly15_data['price'] = sales['price']\n",
    "input = poly15_data.ix[:, poly15_data.columns !='price']\n",
    "output = poly15_data[['price']]\n",
    "model15 = Multiple_linear_regression(input, output)\n",
    "print('slope: '+str(model15.slope()))\n",
    "print('intercept: '+str(model15.intercept()))"
   ]
  },
  {
   "cell_type": "code",
   "execution_count": 22,
   "metadata": {
    "collapsed": false
   },
   "outputs": [
    {
     "data": {
      "text/plain": [
       "[<matplotlib.lines.Line2D at 0x1a6c7240>,\n",
       " <matplotlib.lines.Line2D at 0x1a6c7438>]"
      ]
     },
     "execution_count": 22,
     "metadata": {},
     "output_type": "execute_result"
    },
    {
     "data": {
      "image/png": "[encoded data removed]",
      "text/plain": [
       "<matplotlib.figure.Figure at 0x188fc2b0>"
      ]
     },
     "metadata": {},
     "output_type": "display_data"
    }
   ],
   "source": [
    "plt.plot(poly15_data['power_1'], poly15_data['price'],'.',\n",
    "        poly15_data[['power_1']].values, model15.predict(input),'-'\n",
    "        )"
   ]
  },
  {
   "cell_type": "markdown",
   "metadata": {},
   "source": [
    "What do you think of the 15th degree polynomial? Do you think this is appropriate? If we were to change the data do you think you'd get pretty much the same curve? Let's take a look."
   ]
  },
  {
   "cell_type": "markdown",
   "metadata": {},
   "source": [
    "# Changing the data and re-learning"
   ]
  },
  {
   "cell_type": "markdown",
   "metadata": {},
   "source": [
    "We're going to split the sales data into four subsets of roughly equal size. Then you will estimate a 15th degree polynomial model on all four subsets of the data. Print the coefficients (you should use .print_rows(num_rows = 16) to view all of them) and plot the resulting fit (as we did above). The quiz will ask you some questions about these results."
   ]
  },
  {
   "cell_type": "code",
   "execution_count": 23,
   "metadata": {
    "collapsed": true
   },
   "outputs": [],
   "source": [
    "set_1 = pd.read_csv('wk3_kc_house_set_1_data.csv', dtype=dtype_dict)\n",
    "set_2 = pd.read_csv('wk3_kc_house_set_2_data.csv', dtype=dtype_dict)\n",
    "set_3 = pd.read_csv('wk3_kc_house_set_3_data.csv', dtype=dtype_dict)\n",
    "set_4 = pd.read_csv('wk3_kc_house_set_4_data.csv', dtype=dtype_dict)"
   ]
  },
  {
   "cell_type": "markdown",
   "metadata": {},
   "source": [
    "Fit a 15th degree polynomial on set_1, set_2, set_3, and set_4 using sqft_living to predict prices. Print the coefficients and make a plot of the resulting model."
   ]
  },
  {
   "cell_type": "code",
   "execution_count": 24,
   "metadata": {
    "collapsed": false
   },
   "outputs": [
    {
     "name": "stdout",
     "output_type": "stream",
     "text": [
      "slope: [[  3.05794168e-90  -4.61178503e-49   6.30196191e-55   3.24764373e-60\n",
      "    4.63562611e-74   1.10358333e-70   8.37724029e-67   6.23411957e-63\n",
      "    4.49156443e-59   3.06938763e-55   1.91749300e-51   1.01335180e-47\n",
      "    3.62176959e-44  -5.63501661e-48   2.18641117e-52]]\n",
      "intercept: [ 539058.8186634]\n"
     ]
    }
   ],
   "source": [
    "# set_1, 15th degree polynomial\n",
    "set1_data = polynomial_dataframe(set_1['sqft_living'], 15)\n",
    "set1_data['price'] = set_1['price']\n",
    "input = set1_data.ix[:,set1_data.columns !='price']\n",
    "output = set1_data[['price']]\n",
    "model15 = Multiple_linear_regression(input, output)\n",
    "print('slope: '+str(model15.slope()))\n",
    "print('intercept: '+str(model15.intercept()))"
   ]
  },
  {
   "cell_type": "code",
   "execution_count": 25,
   "metadata": {
    "collapsed": false
   },
   "outputs": [
    {
     "data": {
      "text/plain": [
       "[<matplotlib.lines.Line2D at 0x1a5f5390>,\n",
       " <matplotlib.lines.Line2D at 0x1a5f5588>]"
      ]
     },
     "execution_count": 25,
     "metadata": {},
     "output_type": "execute_result"
    },
    {
     "data": {
      "image/png": "[encoded data removed]",
      "text/plain": [
       "<matplotlib.figure.Figure at 0x1a6e16d8>"
      ]
     },
     "metadata": {},
     "output_type": "display_data"
    }
   ],
   "source": [
    "plt.plot(set1_data['power_1'], set1_data['price'],'.',\n",
    "        set1_data[['power_1']].values, model15.predict(input),'-'\n",
    "        )"
   ]
  },
  {
   "cell_type": "code",
   "execution_count": 26,
   "metadata": {
    "collapsed": false
   },
   "outputs": [
    {
     "name": "stdout",
     "output_type": "stream",
     "text": [
      "slope: [[  2.71472503e-77  -2.52923730e-39   6.94292196e-45  -4.19770327e-51\n",
      "    1.05015688e-53   1.14300931e-56   3.64581291e-55   1.50496920e-51\n",
      "    5.76555835e-48   1.96021755e-44   5.40248357e-41   9.42099030e-38\n",
      "   -3.64131800e-41   4.66177108e-45  -1.97470097e-49]]\n",
      "intercept: [ 506773.61628545]\n"
     ]
    }
   ],
   "source": [
    "# set_2, 15th degree polynomial\n",
    "set2_data = polynomial_dataframe(set_2['sqft_living'], 15)\n",
    "set2_data['price'] = set_2['price']\n",
    "input = set2_data.ix[:,set2_data.columns !='price']\n",
    "output = set2_data[['price']]\n",
    "model15 = Multiple_linear_regression(input, output)\n",
    "print('slope: '+str(model15.slope()))\n",
    "print('intercept: '+str(model15.intercept()))"
   ]
  },
  {
   "cell_type": "code",
   "execution_count": 27,
   "metadata": {
    "collapsed": false,
    "scrolled": true
   },
   "outputs": [
    {
     "data": {
      "text/plain": [
       "[<matplotlib.lines.Line2D at 0x1aed6898>,\n",
       " <matplotlib.lines.Line2D at 0x1aed6a90>]"
      ]
     },
     "execution_count": 27,
     "metadata": {},
     "output_type": "execute_result"
    },
    {
     "data": {
      "image/png": "[encoded data removed]",
      "text/plain": [
       "<matplotlib.figure.Figure at 0x1ab879b0>"
      ]
     },
     "metadata": {},
     "output_type": "display_data"
    }
   ],
   "source": [
    "plt.plot(set2_data['power_1'], set2_data['price'],'.',\n",
    "        set2_data[['power_1']].values, model15.predict(input),'-'\n",
    "        )"
   ]
  },
  {
   "cell_type": "code",
   "execution_count": 28,
   "metadata": {
    "collapsed": false
   },
   "outputs": [
    {
     "name": "stdout",
     "output_type": "stream",
     "text": [
      "slope: [[  2.83751934e-88   8.49513508e-50   2.88938057e-55   1.63512324e-58\n",
      "    1.45972449e-72   4.27894908e-69   2.68009626e-65   1.63911362e-61\n",
      "    9.66435015e-58   5.38044653e-54   2.72563636e-50   1.16253248e-46\n",
      "    3.33756141e-43  -6.76238818e-47   3.43132932e-51]]\n",
      "intercept: [ 530874.31665327]\n"
     ]
    }
   ],
   "source": [
    "# set_3, 15th degree polynomial\n",
    "set3_data = polynomial_dataframe(set_3['sqft_living'], 15)\n",
    "set3_data['price'] = set_3['price']\n",
    "input = set3_data.ix[:,set3_data.columns !='price']\n",
    "output = set3_data[['price']]\n",
    "model15 = Multiple_linear_regression(input, output)\n",
    "print('slope: '+str(model15.slope()))\n",
    "print('intercept: '+str(model15.intercept()))"
   ]
  },
  {
   "cell_type": "code",
   "execution_count": 29,
   "metadata": {
    "collapsed": false
   },
   "outputs": [
    {
     "data": {
      "text/plain": [
       "[<matplotlib.lines.Line2D at 0x1edc51d0>,\n",
       " <matplotlib.lines.Line2D at 0x1edc53c8>]"
      ]
     },
     "execution_count": 29,
     "metadata": {},
     "output_type": "execute_result"
    },
    {
     "data": {
      "image/png": "[encoded data removed]",
      "text/plain": [
       "<matplotlib.figure.Figure at 0x1a602ef0>"
      ]
     },
     "metadata": {},
     "output_type": "display_data"
    }
   ],
   "source": [
    "plt.plot(set3_data['power_1'], set3_data['price'],'.',\n",
    "        set3_data[['power_1']].values, model15.predict(input),'-'\n",
    "        )"
   ]
  },
  {
   "cell_type": "code",
   "execution_count": 30,
   "metadata": {
    "collapsed": false
   },
   "outputs": [
    {
     "name": "stdout",
     "output_type": "stream",
     "text": [
      "slope: [[  1.37116054e-76   2.79734952e-40  -2.09982102e-44   5.06988409e-49\n",
      "    3.99140130e-53  -2.39810761e-58   1.27070047e-54   4.87868978e-51\n",
      "    1.73549024e-47   5.47058327e-44   1.39587601e-40   2.25041874e-37\n",
      "   -9.43954130e-41   1.31573062e-44  -6.09164933e-49]]\n",
      "intercept: [ 494840.01203521]\n"
     ]
    }
   ],
   "source": [
    "# set_4, 15th degree polynomial\n",
    "set4_data = polynomial_dataframe(set_4['sqft_living'], 15)\n",
    "set4_data['price'] = set_4['price']\n",
    "input = set4_data.ix[:,set4_data.columns !='price']\n",
    "output = set4_data[['price']]\n",
    "model15 = Multiple_linear_regression(input, output)\n",
    "print('slope: '+str(model15.slope()))\n",
    "print('intercept: '+str(model15.intercept()))"
   ]
  },
  {
   "cell_type": "code",
   "execution_count": 31,
   "metadata": {
    "collapsed": false
   },
   "outputs": [
    {
     "data": {
      "text/plain": [
       "[<matplotlib.lines.Line2D at 0x1f653da0>,\n",
       " <matplotlib.lines.Line2D at 0x1f653f98>]"
      ]
     },
     "execution_count": 31,
     "metadata": {},
     "output_type": "execute_result"
    },
    {
     "data": {
      "image/png": "[encoded data removed]",
      "text/plain": [
       "<matplotlib.figure.Figure at 0x1f3263c8>"
      ]
     },
     "metadata": {},
     "output_type": "display_data"
    }
   ],
   "source": [
    "plt.plot(set4_data['power_1'], set4_data['price'],'.',\n",
    "        set4_data[['power_1']].values, model15.predict(input),'-'\n",
    "        )"
   ]
  },
  {
   "cell_type": "markdown",
   "metadata": {},
   "source": [
    "Some questions you will be asked on your quiz:\n",
    "\n",
    "**Quiz Question: Is the sign (positive or negative) for power_15 the same in all four models?**\n",
    "\n",
    "**Quiz Question: (True/False) the plotted fitted lines look the same in all four plots**"
   ]
  },
  {
   "cell_type": "markdown",
   "metadata": {},
   "source": [
    "# Selecting a Polynomial Degree"
   ]
  },
  {
   "cell_type": "markdown",
   "metadata": {},
   "source": [
    "Whenever we have a \"magic\" parameter like the degree of the polynomial there is one well-known way to select these parameters: validation set. (We will explore another approach in week 4).\n",
    "\n",
    "We split the sales dataset 3-way into training set, test set, and validation set as follows:"
   ]
  },
  {
   "cell_type": "code",
   "execution_count": 32,
   "metadata": {
    "collapsed": true
   },
   "outputs": [],
   "source": [
    "train_set = pd.read_csv('wk3_kc_house_train_data.csv', dtype=dtype_dict)\n",
    "test_set = pd.read_csv('wk3_kc_house_test_data.csv', dtype=dtype_dict)\n",
    "validate_set = pd.read_csv('wk3_kc_house_valid_data.csv', dtype=dtype_dict)"
   ]
  },
  {
   "cell_type": "markdown",
   "metadata": {},
   "source": [
    "Next you should write a loop that does the following:\n",
    "* For degree in [1, 2, 3, 4, 5, 6, 7, 8, 9, 10, 11, 12, 13, 14, 15] (to get this in python type range(1, 15+1))\n",
    "    * Build an SFrame of polynomial data of train_data['sqft_living'] at the current degree\n",
    "    * hint: my_features = poly_data.column_names() gives you a list e.g. ['power_1', 'power_2', 'power_3'] which you might find useful for graphlab.linear_regression.create( features = my_features)\n",
    "    * Add train_data['price'] to the polynomial SFrame\n",
    "    * Learn a polynomial regression model to sqft vs price with that degree on TRAIN data\n",
    "    * Compute the RSS on VALIDATION data (here you will want to use .predict()) for that degree and you will need to make a polynmial SFrame using validation data.\n",
    "* Report which degree had the lowest RSS on validation data (remember python indexes from 0)\n",
    "\n",
    "(Note you can turn off the print out of linear_regression.create() with verbose = False)"
   ]
  },
  {
   "cell_type": "code",
   "execution_count": 33,
   "metadata": {
    "collapsed": false
   },
   "outputs": [
    {
     "name": "stdout",
     "output_type": "stream",
     "text": [
      "(1, 196278119885774.16)\n",
      "(2, 108514027231628.47)\n",
      "(3, 113357143333229.37)\n",
      "(4, 114920857738551.48)\n",
      "(5, 116054251584357.7)\n",
      "(6, 30805377834795.785)\n",
      "(7, 307391138274456.31)\n",
      "(8, 5783437325070068.0)\n",
      "(9, 43040687440943728.0)\n",
      "(10, 2.4306797576102842e+17)\n",
      "(11, 1.1832331592216466e+18)\n",
      "(12, 5.2209230893139272e+18)\n",
      "(13, 8.4243814687559078e+17)\n",
      "(14, 2.4494823051103191e+18)\n",
      "(15, 7.2363374466994688e+18)\n"
     ]
    }
   ],
   "source": [
    "rss_dict ={}\n",
    "for i in range (1, 15+1):\n",
    "    data = polynomial_dataframe(train_set['sqft_living'], i)\n",
    "    data['price'] = train_set['price']\n",
    "    input = data.ix[:, data.columns !='price']\n",
    "    output = data[['price']]\n",
    "    model = Multiple_linear_regression(input, output)\n",
    "    \n",
    "    # build validation data\n",
    "    vdata = polynomial_dataframe(validate_set['sqft_living'], i)\n",
    "    vdata['price'] = validate_set['price']\n",
    "    vinput = vdata.ix[:, vdata.columns !='price']\n",
    "    \n",
    "    price_predict = model.predict(vinput)\n",
    "    rss = np.sum(price_predict-vdata[['price']].values)**2\n",
    "    print (i, rss)\n",
    "    rss_dict[i] = rss"
   ]
  },
  {
   "cell_type": "markdown",
   "metadata": {},
   "source": [
    "**Quiz Question: Which degree (1, 2, …, 15) had the lowest RSS on Validation data?**"
   ]
  },
  {
   "cell_type": "code",
   "execution_count": 34,
   "metadata": {
    "collapsed": false
   },
   "outputs": [
    {
     "data": {
      "text/plain": [
       "6"
      ]
     },
     "execution_count": 34,
     "metadata": {},
     "output_type": "execute_result"
    }
   ],
   "source": [
    "# lowest rss\n",
    "min(rss_dict , key=rss_dict.get)"
   ]
  },
  {
   "cell_type": "markdown",
   "metadata": {},
   "source": [
    "Now that you have chosen the degree of your polynomial using validation data, compute the RSS of this model on TEST data. Report the RSS on your quiz."
   ]
  },
  {
   "cell_type": "code",
   "execution_count": 35,
   "metadata": {
    "collapsed": false
   },
   "outputs": [],
   "source": [
    "data = polynomial_dataframe(train_set['sqft_living'], 6)\n",
    "data['price'] = train_set['price']\n",
    "input = data.ix[:, data.columns !='price']\n",
    "output = data[['price']]\n",
    "model = Multiple_linear_regression(input, output)\n",
    "\n",
    "# build test data\n",
    "tdata = polynomial_dataframe(test_set['sqft_living'], 6)\n",
    "tdata['price'] = test_set['price']\n",
    "tinput = tdata.ix[:, tdata.columns !='price']"
   ]
  },
  {
   "cell_type": "markdown",
   "metadata": {},
   "source": [
    "**Quiz Question: what is the RSS on TEST data for the model with the degree selected from Validation data?**"
   ]
  },
  {
   "cell_type": "code",
   "execution_count": 36,
   "metadata": {
    "collapsed": false
   },
   "outputs": [
    {
     "name": "stdout",
     "output_type": "stream",
     "text": [
      "2.17378429223e+13\n"
     ]
    }
   ],
   "source": [
    "price_predict = model.predict(tinput)\n",
    "rss = np.sum(price_predict-tdata[['price']].values)**2\n",
    "print (rss)"
   ]
  }
 ],
 "metadata": {
  "kernelspec": {
   "display_name": "Python 2",
   "language": "python",
   "name": "python2"
  },
  "language_info": {
   "codemirror_mode": {
    "name": "ipython",
    "version": 2
   },
   "file_extension": ".py",
   "mimetype": "text/x-python",
   "name": "python",
   "nbconvert_exporter": "python",
   "pygments_lexer": "ipython2",
   "version": "2.7.10"
  }
 },
 "nbformat": 4,
 "nbformat_minor": 0
}
