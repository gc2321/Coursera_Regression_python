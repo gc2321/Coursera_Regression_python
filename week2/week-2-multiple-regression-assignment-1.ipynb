{
 "cells": [
  {
   "cell_type": "markdown",
   "metadata": {},
   "source": [
    "# Regression Week 2: Multiple Regression (Interpretation)"
   ]
  },
  {
   "cell_type": "code",
   "execution_count": 1,
   "metadata": {
    "collapsed": true
   },
   "outputs": [],
   "source": [
    "import pandas as pd\n",
    "import numpy as np\n",
    "import matplotlib.pyplot as plt\n",
    "import seaborn as sns"
   ]
  },
  {
   "cell_type": "code",
   "execution_count": 2,
   "metadata": {
    "collapsed": true
   },
   "outputs": [],
   "source": [
    "%matplotlib inline"
   ]
  },
  {
   "cell_type": "markdown",
   "metadata": {},
   "source": [
    "# Load in house sales data\n",
    "\n",
    "Dataset is from house sales in King County, the region where the city of Seattle, WA is located."
   ]
  },
  {
   "cell_type": "code",
   "execution_count": 3,
   "metadata": {
    "collapsed": true
   },
   "outputs": [],
   "source": [
    "dtype_dict = {'bathrooms':float, 'waterfront':int, 'sqft_above':int, 'sqft_living15':float, 'grade':int, 'yr_renovated':int, 'price':float, 'bedrooms':float, 'zipcode':str, 'long':float, 'sqft_lot15':float, 'sqft_living':float, 'floors':str, 'condition':int, 'lat':float, 'date':str, 'sqft_basement':int, 'yr_built':int, 'id':str, 'sqft_lot':int, 'view':int}\n"
   ]
  },
  {
   "cell_type": "code",
   "execution_count": 4,
   "metadata": {
    "collapsed": false,
    "scrolled": true
   },
   "outputs": [],
   "source": [
    "data = pd.read_csv('week1/kc_house_data.csv', dtype=dtype_dict)"
   ]
  },
  {
   "cell_type": "markdown",
   "metadata": {},
   "source": [
    "# Split data into training and testing."
   ]
  },
  {
   "cell_type": "code",
   "execution_count": 5,
   "metadata": {
    "collapsed": false
   },
   "outputs": [],
   "source": [
    "# to split data into train and test set \n",
    "#from sklearn.cross_validation import train_test_split\n",
    "#train, test = train_test_split(data, test_size = 0.2)\n",
    "\n",
    "# for this exercise, we load train and test set\n",
    "train = pd.read_csv('week1/kc_house_train_data.csv', dtype=dtype_dict)\n",
    "test = pd.read_csv('week1/kc_house_test_data.csv', dtype=dtype_dict)"
   ]
  },
  {
   "cell_type": "code",
   "execution_count": 6,
   "metadata": {
    "collapsed": false
   },
   "outputs": [
    {
     "data": {
      "text/plain": [
       "(17384, 4229)"
      ]
     },
     "execution_count": 6,
     "metadata": {},
     "output_type": "execute_result"
    }
   ],
   "source": [
    "len(train), len(test)"
   ]
  },
  {
   "cell_type": "code",
   "execution_count": 7,
   "metadata": {
    "collapsed": false
   },
   "outputs": [
    {
     "data": {
      "text/html": [
       "<div>\n",
       "<table border=\"1\" class=\"dataframe\">\n",
       "  <thead>\n",
       "    <tr style=\"text-align: right;\">\n",
       "      <th></th>\n",
       "      <th>id</th>\n",
       "      <th>date</th>\n",
       "      <th>price</th>\n",
       "      <th>bedrooms</th>\n",
       "      <th>bathrooms</th>\n",
       "      <th>sqft_living</th>\n",
       "      <th>sqft_lot</th>\n",
       "      <th>floors</th>\n",
       "      <th>waterfront</th>\n",
       "      <th>view</th>\n",
       "      <th>...</th>\n",
       "      <th>grade</th>\n",
       "      <th>sqft_above</th>\n",
       "      <th>sqft_basement</th>\n",
       "      <th>yr_built</th>\n",
       "      <th>yr_renovated</th>\n",
       "      <th>zipcode</th>\n",
       "      <th>lat</th>\n",
       "      <th>long</th>\n",
       "      <th>sqft_living15</th>\n",
       "      <th>sqft_lot15</th>\n",
       "    </tr>\n",
       "  </thead>\n",
       "  <tbody>\n",
       "    <tr>\n",
       "      <th>0</th>\n",
       "      <td>7129300520</td>\n",
       "      <td>20141013T000000</td>\n",
       "      <td>221900</td>\n",
       "      <td>3</td>\n",
       "      <td>1.00</td>\n",
       "      <td>1180</td>\n",
       "      <td>5650</td>\n",
       "      <td>1</td>\n",
       "      <td>0</td>\n",
       "      <td>0</td>\n",
       "      <td>...</td>\n",
       "      <td>7</td>\n",
       "      <td>1180</td>\n",
       "      <td>0</td>\n",
       "      <td>1955</td>\n",
       "      <td>0</td>\n",
       "      <td>98178</td>\n",
       "      <td>47.5112</td>\n",
       "      <td>-122.257</td>\n",
       "      <td>1340</td>\n",
       "      <td>5650</td>\n",
       "    </tr>\n",
       "    <tr>\n",
       "      <th>1</th>\n",
       "      <td>6414100192</td>\n",
       "      <td>20141209T000000</td>\n",
       "      <td>538000</td>\n",
       "      <td>3</td>\n",
       "      <td>2.25</td>\n",
       "      <td>2570</td>\n",
       "      <td>7242</td>\n",
       "      <td>2</td>\n",
       "      <td>0</td>\n",
       "      <td>0</td>\n",
       "      <td>...</td>\n",
       "      <td>7</td>\n",
       "      <td>2170</td>\n",
       "      <td>400</td>\n",
       "      <td>1951</td>\n",
       "      <td>1991</td>\n",
       "      <td>98125</td>\n",
       "      <td>47.7210</td>\n",
       "      <td>-122.319</td>\n",
       "      <td>1690</td>\n",
       "      <td>7639</td>\n",
       "    </tr>\n",
       "  </tbody>\n",
       "</table>\n",
       "<p>2 rows × 21 columns</p>\n",
       "</div>"
      ],
      "text/plain": [
       "           id             date   price  bedrooms  bathrooms  sqft_living  \\\n",
       "0  7129300520  20141013T000000  221900         3       1.00         1180   \n",
       "1  6414100192  20141209T000000  538000         3       2.25         2570   \n",
       "\n",
       "   sqft_lot floors  waterfront  view     ...      grade  sqft_above  \\\n",
       "0      5650      1           0     0     ...          7        1180   \n",
       "1      7242      2           0     0     ...          7        2170   \n",
       "\n",
       "   sqft_basement  yr_built  yr_renovated  zipcode      lat     long  \\\n",
       "0              0      1955             0    98178  47.5112 -122.257   \n",
       "1            400      1951          1991    98125  47.7210 -122.319   \n",
       "\n",
       "   sqft_living15  sqft_lot15  \n",
       "0           1340        5650  \n",
       "1           1690        7639  \n",
       "\n",
       "[2 rows x 21 columns]"
      ]
     },
     "execution_count": 7,
     "metadata": {},
     "output_type": "execute_result"
    }
   ],
   "source": [
    "train.head(2)"
   ]
  },
  {
   "cell_type": "code",
   "execution_count": 8,
   "metadata": {
    "collapsed": false
   },
   "outputs": [],
   "source": [
    "# add some columns to train data\n",
    "train['bedrooms_squared'] = train['bedrooms'].apply(lambda x: x**2)\n",
    "train['bed_bath_rooms'] = train['bedrooms']*train['bathrooms']\n",
    "train['log_sqft_living'] = np.log(train['sqft_living'])\n",
    "train['lat_plus_long'] = train['lat']+train['long']"
   ]
  },
  {
   "cell_type": "code",
   "execution_count": 9,
   "metadata": {
    "collapsed": false
   },
   "outputs": [
    {
     "data": {
      "text/html": [
       "<div>\n",
       "<table border=\"1\" class=\"dataframe\">\n",
       "  <thead>\n",
       "    <tr style=\"text-align: right;\">\n",
       "      <th></th>\n",
       "      <th>id</th>\n",
       "      <th>date</th>\n",
       "      <th>price</th>\n",
       "      <th>bedrooms</th>\n",
       "      <th>bathrooms</th>\n",
       "      <th>sqft_living</th>\n",
       "      <th>sqft_lot</th>\n",
       "      <th>floors</th>\n",
       "      <th>waterfront</th>\n",
       "      <th>view</th>\n",
       "      <th>...</th>\n",
       "      <th>yr_renovated</th>\n",
       "      <th>zipcode</th>\n",
       "      <th>lat</th>\n",
       "      <th>long</th>\n",
       "      <th>sqft_living15</th>\n",
       "      <th>sqft_lot15</th>\n",
       "      <th>bedrooms_squared</th>\n",
       "      <th>bed_bath_rooms</th>\n",
       "      <th>log_sqft_living</th>\n",
       "      <th>lat_plus_long</th>\n",
       "    </tr>\n",
       "  </thead>\n",
       "  <tbody>\n",
       "    <tr>\n",
       "      <th>0</th>\n",
       "      <td>7129300520</td>\n",
       "      <td>20141013T000000</td>\n",
       "      <td>221900</td>\n",
       "      <td>3</td>\n",
       "      <td>1.00</td>\n",
       "      <td>1180</td>\n",
       "      <td>5650</td>\n",
       "      <td>1</td>\n",
       "      <td>0</td>\n",
       "      <td>0</td>\n",
       "      <td>...</td>\n",
       "      <td>0</td>\n",
       "      <td>98178</td>\n",
       "      <td>47.5112</td>\n",
       "      <td>-122.257</td>\n",
       "      <td>1340</td>\n",
       "      <td>5650</td>\n",
       "      <td>9</td>\n",
       "      <td>3.00</td>\n",
       "      <td>7.073270</td>\n",
       "      <td>-74.7458</td>\n",
       "    </tr>\n",
       "    <tr>\n",
       "      <th>1</th>\n",
       "      <td>6414100192</td>\n",
       "      <td>20141209T000000</td>\n",
       "      <td>538000</td>\n",
       "      <td>3</td>\n",
       "      <td>2.25</td>\n",
       "      <td>2570</td>\n",
       "      <td>7242</td>\n",
       "      <td>2</td>\n",
       "      <td>0</td>\n",
       "      <td>0</td>\n",
       "      <td>...</td>\n",
       "      <td>1991</td>\n",
       "      <td>98125</td>\n",
       "      <td>47.7210</td>\n",
       "      <td>-122.319</td>\n",
       "      <td>1690</td>\n",
       "      <td>7639</td>\n",
       "      <td>9</td>\n",
       "      <td>6.75</td>\n",
       "      <td>7.851661</td>\n",
       "      <td>-74.5980</td>\n",
       "    </tr>\n",
       "  </tbody>\n",
       "</table>\n",
       "<p>2 rows × 25 columns</p>\n",
       "</div>"
      ],
      "text/plain": [
       "           id             date   price  bedrooms  bathrooms  sqft_living  \\\n",
       "0  7129300520  20141013T000000  221900         3       1.00         1180   \n",
       "1  6414100192  20141209T000000  538000         3       2.25         2570   \n",
       "\n",
       "   sqft_lot floors  waterfront  view      ...        yr_renovated  zipcode  \\\n",
       "0      5650      1           0     0      ...                   0    98178   \n",
       "1      7242      2           0     0      ...                1991    98125   \n",
       "\n",
       "       lat     long  sqft_living15  sqft_lot15 bedrooms_squared  \\\n",
       "0  47.5112 -122.257           1340        5650                9   \n",
       "1  47.7210 -122.319           1690        7639                9   \n",
       "\n",
       "   bed_bath_rooms  log_sqft_living  lat_plus_long  \n",
       "0            3.00         7.073270       -74.7458  \n",
       "1            6.75         7.851661       -74.5980  \n",
       "\n",
       "[2 rows x 25 columns]"
      ]
     },
     "execution_count": 9,
     "metadata": {},
     "output_type": "execute_result"
    }
   ],
   "source": [
    "train.head(2)"
   ]
  },
  {
   "cell_type": "code",
   "execution_count": 10,
   "metadata": {
    "collapsed": true
   },
   "outputs": [],
   "source": [
    "# add the same columns to test data\n",
    "test['bedrooms_squared'] = test['bedrooms'].apply(lambda x: x**2)\n",
    "test['bed_bath_rooms'] = test['bedrooms']*test['bathrooms']\n",
    "test['log_sqft_living'] = np.log(test['sqft_living'])\n",
    "test['lat_plus_long'] = test['lat']+test['long']"
   ]
  },
  {
   "cell_type": "code",
   "execution_count": 11,
   "metadata": {
    "collapsed": false
   },
   "outputs": [
    {
     "data": {
      "text/plain": [
       "bedrooms_squared    12.446678\n",
       "bed_bath_rooms       7.503902\n",
       "log_sqft_living      7.550275\n",
       "lat_plus_long      -74.653334\n",
       "dtype: float64"
      ]
     },
     "execution_count": 11,
     "metadata": {},
     "output_type": "execute_result"
    }
   ],
   "source": [
    "# what are the means of the following columns:\n",
    "test.loc[:,['bedrooms_squared','bed_bath_rooms','log_sqft_living','lat_plus_long']].mean()"
   ]
  },
  {
   "cell_type": "markdown",
   "metadata": {},
   "source": [
    "# Multiple regression model"
   ]
  },
  {
   "cell_type": "markdown",
   "metadata": {},
   "source": [
    "Use train data to generate the following models:\n",
    "* Model 1: ‘sqft_living’, ‘bedrooms’, ‘bathrooms’, ‘lat’, and ‘long’\n",
    "* Model 2: ‘sqft_living’, ‘bedrooms’, ‘bathrooms’, ‘lat’,‘long’, and ‘bed_bath_rooms’\n",
    "* Model 3: ‘sqft_living’, ‘bedrooms’, ‘bathrooms’, ‘lat’,‘long’, ‘bed_bath_rooms’, ‘bedrooms_squared’, ‘log_sqft_living’, and ‘lat_plus_long’"
   ]
  },
  {
   "cell_type": "code",
   "execution_count": 12,
   "metadata": {
    "collapsed": false
   },
   "outputs": [],
   "source": [
    "from sklearn.linear_model import LinearRegression"
   ]
  },
  {
   "cell_type": "code",
   "execution_count": 13,
   "metadata": {
    "collapsed": true
   },
   "outputs": [],
   "source": [
    "x1 = train.loc[:,['sqft_living', 'bedrooms', 'bathrooms', 'lat','long']].values\n",
    "x2 = train.loc[:,['sqft_living', 'bedrooms', 'bathrooms', 'lat','long', 'bed_bath_rooms']].values\n",
    "x3 = train.loc[:,['sqft_living', 'bedrooms', 'bathrooms', 'lat','long', 'bed_bath_rooms', 'bedrooms_squared','log_sqft_living', 'lat_plus_long']].values\n",
    "y = train[['price']].values"
   ]
  },
  {
   "cell_type": "code",
   "execution_count": 14,
   "metadata": {
    "collapsed": false
   },
   "outputs": [],
   "source": [
    "def linear_regression(input, output):\n",
    "    \"\"\"linear regression\n",
    "    input: x, \n",
    "    ouput: y,\n",
    "    return: (intercept, slope)\n",
    "    \"\"\"\n",
    "    slr = LinearRegression()\n",
    "    slr.fit(input,output)\n",
    "    print('coefficient: '+str(slr.coef_))\n",
    "    print('Intercept: %.3f'% slr.intercept_)\n",
    "    print('r^2: %.3f'% slr.score(input, output, sample_weight=None))\n",
    "    return (slr, slr.intercept_, slr.coef_)"
   ]
  },
  {
   "cell_type": "code",
   "execution_count": 15,
   "metadata": {
    "collapsed": false
   },
   "outputs": [
    {
     "name": "stdout",
     "output_type": "stream",
     "text": [
      "coefficient: [[  3.12258646e+02  -5.95865332e+04   1.57067421e+04   6.58619264e+05\n",
      "   -3.09374351e+05]]\n",
      "Intercept: -69075726.793\n",
      "r^2: 0.593\n"
     ]
    },
    {
     "data": {
      "text/plain": [
       "(LinearRegression(copy_X=True, fit_intercept=True, n_jobs=1, normalize=False),\n",
       " array([-69075726.79256983]),\n",
       " array([[  3.12258646e+02,  -5.95865332e+04,   1.57067421e+04,\n",
       "           6.58619264e+05,  -3.09374351e+05]]))"
      ]
     },
     "execution_count": 15,
     "metadata": {},
     "output_type": "execute_result"
    }
   ],
   "source": [
    "linear_regression(x1, y)"
   ]
  },
  {
   "cell_type": "code",
   "execution_count": 16,
   "metadata": {
    "collapsed": false
   },
   "outputs": [
    {
     "name": "stdout",
     "output_type": "stream",
     "text": [
      "coefficient: [[  3.06610053e+02  -1.13446368e+05  -7.14613083e+04   6.54844630e+05\n",
      "   -2.94298969e+05   2.55796520e+04]]\n",
      "Intercept: -66867968.871\n",
      "r^2: 0.597\n"
     ]
    },
    {
     "data": {
      "text/plain": [
       "(LinearRegression(copy_X=True, fit_intercept=True, n_jobs=1, normalize=False),\n",
       " array([-66867968.87107886]),\n",
       " array([[  3.06610053e+02,  -1.13446368e+05,  -7.14613083e+04,\n",
       "           6.54844630e+05,  -2.94298969e+05,   2.55796520e+04]]))"
      ]
     },
     "execution_count": 16,
     "metadata": {},
     "output_type": "execute_result"
    }
   ],
   "source": [
    "linear_regression(x2, y)"
   ]
  },
  {
   "cell_type": "code",
   "execution_count": 17,
   "metadata": {
    "collapsed": false
   },
   "outputs": [
    {
     "name": "stdout",
     "output_type": "stream",
     "text": [
      "coefficient: [[  5.29422820e+02   3.45142296e+04   6.70607813e+04   5.34085611e+05\n",
      "   -4.06750711e+05  -8.57050439e+03  -6.78858667e+03  -5.61831484e+05\n",
      "    1.27334900e+05]]\n",
      "Intercept: -62036084.986\n",
      "r^2: 0.620\n"
     ]
    },
    {
     "data": {
      "text/plain": [
       "(LinearRegression(copy_X=True, fit_intercept=True, n_jobs=1, normalize=False),\n",
       " array([-62036084.98609828]),\n",
       " array([[  5.29422820e+02,   3.45142296e+04,   6.70607813e+04,\n",
       "           5.34085611e+05,  -4.06750711e+05,  -8.57050439e+03,\n",
       "          -6.78858667e+03,  -5.61831484e+05,   1.27334900e+05]]))"
      ]
     },
     "execution_count": 17,
     "metadata": {},
     "output_type": "execute_result"
    }
   ],
   "source": [
    "linear_regression(x3, y)"
   ]
  },
  {
   "cell_type": "code",
   "execution_count": 18,
   "metadata": {
    "collapsed": false
   },
   "outputs": [
    {
     "name": "stdout",
     "output_type": "stream",
     "text": [
      "coefficient: [[  3.12258646e+02  -5.95865332e+04   1.57067421e+04   6.58619264e+05\n",
      "   -3.09374351e+05]]\n",
      "Intercept: -69075726.793\n",
      "r^2: 0.593\n",
      "coefficient: [[  3.06610053e+02  -1.13446368e+05  -7.14613083e+04   6.54844630e+05\n",
      "   -2.94298969e+05   2.55796520e+04]]\n",
      "Intercept: -66867968.871\n",
      "r^2: 0.597\n",
      "coefficient: [[  5.29422820e+02   3.45142296e+04   6.70607813e+04   5.34085611e+05\n",
      "   -4.06750711e+05  -8.57050439e+03  -6.78858667e+03  -5.61831484e+05\n",
      "    1.27334900e+05]]\n",
      "Intercept: -62036084.986\n",
      "r^2: 0.620\n"
     ]
    }
   ],
   "source": [
    "# calculating RSS\n",
    "m1_price_pred = linear_regression(x1, y)[0].predict(x1)\n",
    "m2_price_pred = linear_regression(x2, y)[0].predict(x2)\n",
    "m3_price_pred = linear_regression(x3, y)[0].predict(x3)"
   ]
  },
  {
   "cell_type": "code",
   "execution_count": 19,
   "metadata": {
    "collapsed": true
   },
   "outputs": [],
   "source": [
    "def rss(predict, actual):\n",
    "    return np.sum((predict-actual)**2)"
   ]
  },
  {
   "cell_type": "code",
   "execution_count": 20,
   "metadata": {
    "collapsed": false
   },
   "outputs": [
    {
     "data": {
      "text/plain": [
       "(967879963049545.75, 958419635074070.0, 903436455050479.0)"
      ]
     },
     "execution_count": 20,
     "metadata": {},
     "output_type": "execute_result"
    }
   ],
   "source": [
    "# rss of Train data\n",
    "rss(m1_price_pred,train[['price']].values), rss(m2_price_pred,train[['price']].values),rss(m3_price_pred,train[['price']].values)"
   ]
  },
  {
   "cell_type": "code",
   "execution_count": 21,
   "metadata": {
    "collapsed": true
   },
   "outputs": [],
   "source": [
    "# work on Test data\n",
    "tx1 = test.loc[:,['sqft_living', 'bedrooms', 'bathrooms', 'lat','long']].values\n",
    "tx2 = test.loc[:,['sqft_living', 'bedrooms', 'bathrooms', 'lat','long', 'bed_bath_rooms']].values\n",
    "tx3 = test.loc[:,['sqft_living', 'bedrooms', 'bathrooms', 'lat','long', 'bed_bath_rooms', 'bedrooms_squared','log_sqft_living', 'lat_plus_long']].values\n",
    "ty = test[['price']].values"
   ]
  },
  {
   "cell_type": "code",
   "execution_count": 22,
   "metadata": {
    "collapsed": false
   },
   "outputs": [
    {
     "name": "stdout",
     "output_type": "stream",
     "text": [
      "coefficient: [[  2.91523046e+02  -3.63442805e+04   2.24784634e+04   6.49781148e+05\n",
      "   -3.22967664e+05]]\n",
      "Intercept: -70365461.083\n",
      "r^2: 0.584\n",
      "coefficient: [[  2.84109954e+02  -9.38571172e+04  -7.73844701e+04   6.46266392e+05\n",
      "   -3.05020252e+05   2.91947505e+04]]\n",
      "Intercept: -67803197.056\n",
      "r^2: 0.589\n",
      "coefficient: [[  4.69716691e+02  -3.28857029e+04   5.04637585e+04   5.25504326e+05\n",
      "   -4.08891578e+05  -2.28592380e+03   1.08100171e+03  -4.33486888e+05\n",
      "    1.16612748e+05]]\n",
      "Intercept: -63414968.747\n",
      "r^2: 0.606\n"
     ]
    }
   ],
   "source": [
    "t1_price_pred = linear_regression(tx1, ty)[0].predict(tx1)\n",
    "t2_price_pred = linear_regression(tx2, ty)[0].predict(tx2)\n",
    "t3_price_pred = linear_regression(tx3, ty)[0].predict(tx3)"
   ]
  },
  {
   "cell_type": "code",
   "execution_count": 23,
   "metadata": {
    "collapsed": false
   },
   "outputs": [
    {
     "data": {
      "text/plain": [
       "(223588470558143.28, 220888287427809.19, 211457519132479.25)"
      ]
     },
     "execution_count": 23,
     "metadata": {},
     "output_type": "execute_result"
    }
   ],
   "source": [
    "# rss of Test data\n",
    "rss(t1_price_pred,test[['price']].values), rss(t2_price_pred,test[['price']].values),rss(t3_price_pred,test[['price']].values)"
   ]
  }
 ],
 "metadata": {
  "kernelspec": {
   "display_name": "Python 3",
   "language": "python",
   "name": "python3"
  },
  "language_info": {
   "codemirror_mode": {
    "name": "ipython",
    "version": 3
   },
   "file_extension": ".py",
   "mimetype": "text/x-python",
   "name": "python",
   "nbconvert_exporter": "python",
   "pygments_lexer": "ipython3",
   "version": "3.5.1"
  }
 },
 "nbformat": 4,
 "nbformat_minor": 0
}
